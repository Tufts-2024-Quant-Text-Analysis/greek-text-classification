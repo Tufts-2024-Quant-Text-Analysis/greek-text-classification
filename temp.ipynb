{
 "cells": [
  {
   "cell_type": "markdown",
   "metadata": {},
   "source": [
    "# Text Classification\n",
    "\n",
    "Text classification is a process in Machine Learning that categorizes text into a certain category. We've seen a version of text classification before, when we looked at Greek dramas in Week 6 and used TF-IDF data to assign text to a dramatist. Sentiment Analysis, which was part of our journal club, is also a form of text classification.\n",
    "\n",
    "This week, we will use BERT to attempt to classify text as prose or poetry.\n",
    "\n",
    "## Corpus Selection\n",
    "\n",
    "We're going to use the [Perseus Treebank](https://perseusdl.github.io/treebank_data/) data as our initial corpus. \n",
    "\n",
    "\n",
    "> Discuss: What can you observe about our corpus? What theories do you have about potential issues or advantages with using this corpus?"
   ]
  },
  {
   "cell_type": "code",
   "execution_count": null,
   "metadata": {},
   "outputs": [],
   "source": [
    "\n",
    "import pandas as pd\n",
    "\n",
    "pd.set_option('display.max_colwidth', None)\n",
    "\n",
    "df_all = pd.read_pickle(\"./corpus.pickle\")\n",
    "df_all\n",
    "\n",
    "#todos:\n",
    "#add/fix preprocessing stuff\n",
    "#clean data to remove empty lines for sure\n",
    "#take a closer look at sentence boundaries\n",
    "\n"
   ]
  },
  {
   "cell_type": "markdown",
   "metadata": {},
   "source": [
    "## Exercises\n",
    "Now that we've preprocessed the text, we should do some exploration to form descriptive statistics. \n",
    "1. Considering your initial observations about the corpus, explore the data in code to understand our corpus better. \n",
    "2. Use data visualization to demonstrate what you've found."
   ]
  },
  {
   "cell_type": "code",
   "execution_count": null,
   "metadata": {},
   "outputs": [],
   "source": [
    "# your code goes here\n",
    "import matplotlib as plt\n",
    "import seaborn as sns\n",
    "\n"
   ]
  },
  {
   "cell_type": "code",
   "execution_count": null,
   "metadata": {},
   "outputs": [
    {
     "name": "stdout",
     "output_type": "stream",
     "text": [
      "\u001b[31mERROR: Could not find a version that satisfies the requirement tensorflow-keras (from versions: none)\u001b[0m\u001b[31m\n",
      "\u001b[0m\u001b[31mERROR: No matching distribution found for tensorflow-keras\u001b[0m\u001b[31m\n",
      "\u001b[0m\n",
      "\u001b[1m[\u001b[0m\u001b[34;49mnotice\u001b[0m\u001b[1;39;49m]\u001b[0m\u001b[39;49m A new release of pip is available: \u001b[0m\u001b[31;49m24.0\u001b[0m\u001b[39;49m -> \u001b[0m\u001b[32;49m24.3.1\u001b[0m\n",
      "\u001b[1m[\u001b[0m\u001b[34;49mnotice\u001b[0m\u001b[1;39;49m]\u001b[0m\u001b[39;49m To update, run: \u001b[0m\u001b[32;49mpip install --upgrade pip\u001b[0m\n",
      "Note: you may need to restart the kernel to use updated packages.\n"
     ]
    }
   ],
   "source": [
    "#%pip install scikit-learn\n",
    "#%pip install torch"
   ]
  },
  {
   "cell_type": "markdown",
   "metadata": {},
   "source": [
    "## BERT\n",
    "For this exercise, we're using [this](https://aclanthology.org/2021.latechclfl-1.15/) BERT model, pretrained on Ancient Greek with a focus on morphological analysis\n"
   ]
  }
 ],
 "metadata": {
  "kernelspec": {
   "display_name": ".venv",
   "language": "python",
   "name": "python3"
  },
  "language_info": {
   "codemirror_mode": {
    "name": "ipython",
    "version": 3
   },
   "file_extension": ".py",
   "mimetype": "text/x-python",
   "name": "python",
   "nbconvert_exporter": "python",
   "pygments_lexer": "ipython3",
   "version": "3.11.9"
  }
 },
 "nbformat": 4,
 "nbformat_minor": 2
}
